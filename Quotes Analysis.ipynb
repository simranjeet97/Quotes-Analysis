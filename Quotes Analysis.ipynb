{
 "cells": [
  {
   "cell_type": "code",
   "execution_count": 1,
   "metadata": {},
   "outputs": [],
   "source": [
    "import numpy as np\n",
    "import pandas as pd\n",
    "import matplotlib.pyplot as plt\n",
    "#pd.options.display.max_colwidth = 100\n",
    "pd.set_option('display.max_colwidth', -1)"
   ]
  },
  {
   "cell_type": "code",
   "execution_count": 2,
   "metadata": {},
   "outputs": [],
   "source": [
    "#Read the Json File\n",
    "quotes = pd.read_json('quotes.json')"
   ]
  },
  {
   "cell_type": "code",
   "execution_count": 3,
   "metadata": {},
   "outputs": [
    {
     "data": {
      "text/html": [
       "<div>\n",
       "<style scoped>\n",
       "    .dataframe tbody tr th:only-of-type {\n",
       "        vertical-align: middle;\n",
       "    }\n",
       "\n",
       "    .dataframe tbody tr th {\n",
       "        vertical-align: top;\n",
       "    }\n",
       "\n",
       "    .dataframe thead th {\n",
       "        text-align: right;\n",
       "    }\n",
       "</style>\n",
       "<table border=\"1\" class=\"dataframe\">\n",
       "  <thead>\n",
       "    <tr style=\"text-align: right;\">\n",
       "      <th></th>\n",
       "      <th>Author</th>\n",
       "      <th>Category</th>\n",
       "      <th>Popularity</th>\n",
       "      <th>Quote</th>\n",
       "      <th>Tags</th>\n",
       "    </tr>\n",
       "  </thead>\n",
       "  <tbody>\n",
       "    <tr>\n",
       "      <th>0</th>\n",
       "      <td>Dr. Seuss</td>\n",
       "      <td>life</td>\n",
       "      <td>0.155666</td>\n",
       "      <td>Don't cry because it's over, smile because it happened.</td>\n",
       "      <td>[attributed-no-source, cry, crying, experience, happiness, joy, life, misattributed-dr-seuss, optimism, sadness, smile, smiling ]</td>\n",
       "    </tr>\n",
       "    <tr>\n",
       "      <th>1</th>\n",
       "      <td>Dr. Seuss</td>\n",
       "      <td>happiness</td>\n",
       "      <td>0.155666</td>\n",
       "      <td>Don't cry because it's over, smile because it happened.</td>\n",
       "      <td>[attributed-no-source, cry, crying, experience, happiness, joy, life, misattributed-dr-seuss, optimism, sadness, smile, smiling ]</td>\n",
       "    </tr>\n",
       "    <tr>\n",
       "      <th>2</th>\n",
       "      <td>Marilyn Monroe</td>\n",
       "      <td>love</td>\n",
       "      <td>0.129122</td>\n",
       "      <td>I'm selfish, impatient and a little insecure. I make mistakes, I am out of control and at times hard to handle. But if you can't handle me at my worst, then you sure as hell don't deserve me at my best.</td>\n",
       "      <td>[attributed-no-source, best, life, love, mistakes, out-of-control, truth, worst ]</td>\n",
       "    </tr>\n",
       "    <tr>\n",
       "      <th>3</th>\n",
       "      <td>Marilyn Monroe</td>\n",
       "      <td>life</td>\n",
       "      <td>0.129122</td>\n",
       "      <td>I'm selfish, impatient and a little insecure. I make mistakes, I am out of control and at times hard to handle. But if you can't handle me at my worst, then you sure as hell don't deserve me at my best.</td>\n",
       "      <td>[attributed-no-source, best, life, love, mistakes, out-of-control, truth, worst ]</td>\n",
       "    </tr>\n",
       "    <tr>\n",
       "      <th>4</th>\n",
       "      <td>Marilyn Monroe</td>\n",
       "      <td>truth</td>\n",
       "      <td>0.129122</td>\n",
       "      <td>I'm selfish, impatient and a little insecure. I make mistakes, I am out of control and at times hard to handle. But if you can't handle me at my worst, then you sure as hell don't deserve me at my best.</td>\n",
       "      <td>[attributed-no-source, best, life, love, mistakes, out-of-control, truth, worst ]</td>\n",
       "    </tr>\n",
       "  </tbody>\n",
       "</table>\n",
       "</div>"
      ],
      "text/plain": [
       "           Author   Category  Popularity  \\\n",
       "0  Dr. Seuss       life       0.155666     \n",
       "1  Dr. Seuss       happiness  0.155666     \n",
       "2  Marilyn Monroe  love       0.129122     \n",
       "3  Marilyn Monroe  life       0.129122     \n",
       "4  Marilyn Monroe  truth      0.129122     \n",
       "\n",
       "                                                                                                                                                                                                        Quote  \\\n",
       "0  Don't cry because it's over, smile because it happened.                                                                                                                                                      \n",
       "1  Don't cry because it's over, smile because it happened.                                                                                                                                                      \n",
       "2  I'm selfish, impatient and a little insecure. I make mistakes, I am out of control and at times hard to handle. But if you can't handle me at my worst, then you sure as hell don't deserve me at my best.   \n",
       "3  I'm selfish, impatient and a little insecure. I make mistakes, I am out of control and at times hard to handle. But if you can't handle me at my worst, then you sure as hell don't deserve me at my best.   \n",
       "4  I'm selfish, impatient and a little insecure. I make mistakes, I am out of control and at times hard to handle. But if you can't handle me at my worst, then you sure as hell don't deserve me at my best.   \n",
       "\n",
       "                                                                                                                                Tags  \n",
       "0  [attributed-no-source, cry, crying, experience, happiness, joy, life, misattributed-dr-seuss, optimism, sadness, smile, smiling ]  \n",
       "1  [attributed-no-source, cry, crying, experience, happiness, joy, life, misattributed-dr-seuss, optimism, sadness, smile, smiling ]  \n",
       "2  [attributed-no-source, best, life, love, mistakes, out-of-control, truth, worst ]                                                  \n",
       "3  [attributed-no-source, best, life, love, mistakes, out-of-control, truth, worst ]                                                  \n",
       "4  [attributed-no-source, best, life, love, mistakes, out-of-control, truth, worst ]                                                  "
      ]
     },
     "execution_count": 3,
     "metadata": {},
     "output_type": "execute_result"
    }
   ],
   "source": [
    "quotes.head()"
   ]
  },
  {
   "cell_type": "code",
   "execution_count": 4,
   "metadata": {},
   "outputs": [
    {
     "data": {
      "text/plain": [
       "Author        0\n",
       "Category      0\n",
       "Popularity    0\n",
       "Quote         0\n",
       "Tags          0\n",
       "dtype: int64"
      ]
     },
     "execution_count": 4,
     "metadata": {},
     "output_type": "execute_result"
    }
   ],
   "source": [
    "#Check if there is NaN Values in Columns\n",
    "quotes.isnull().sum()"
   ]
  },
  {
   "cell_type": "code",
   "execution_count": 5,
   "metadata": {},
   "outputs": [
    {
     "data": {
      "text/plain": [
       "0        0\n",
       "1        0\n",
       "2        0\n",
       "3        0\n",
       "4        0\n",
       "5        0\n",
       "6        0\n",
       "7        0\n",
       "8        0\n",
       "9        0\n",
       "10       0\n",
       "11       0\n",
       "12       0\n",
       "13       0\n",
       "14       0\n",
       "15       0\n",
       "16       0\n",
       "17       0\n",
       "18       0\n",
       "19       0\n",
       "20       0\n",
       "21       0\n",
       "22       0\n",
       "23       0\n",
       "24       0\n",
       "25       0\n",
       "26       0\n",
       "27       0\n",
       "28       0\n",
       "29       0\n",
       "        ..\n",
       "48361    0\n",
       "48362    0\n",
       "48363    0\n",
       "48364    0\n",
       "48365    0\n",
       "48366    0\n",
       "48367    0\n",
       "48368    0\n",
       "48369    0\n",
       "48370    0\n",
       "48371    0\n",
       "48372    0\n",
       "48373    0\n",
       "48374    0\n",
       "48375    0\n",
       "48376    0\n",
       "48377    0\n",
       "48378    0\n",
       "48379    0\n",
       "48380    0\n",
       "48381    0\n",
       "48382    0\n",
       "48383    0\n",
       "48384    0\n",
       "48385    0\n",
       "48386    0\n",
       "48387    0\n",
       "48388    0\n",
       "48389    0\n",
       "48390    0\n",
       "Length: 48391, dtype: int64"
      ]
     },
     "execution_count": 5,
     "metadata": {},
     "output_type": "execute_result"
    }
   ],
   "source": [
    "#Check if there is NaN Values in Rows\n",
    "quotes.isnull().sum(axis=1)"
   ]
  },
  {
   "cell_type": "code",
   "execution_count": 6,
   "metadata": {},
   "outputs": [],
   "source": [
    "#Data is Cleaned as we see in the row and columns of the data"
   ]
  },
  {
   "cell_type": "code",
   "execution_count": 22,
   "metadata": {},
   "outputs": [],
   "source": [
    "#Convert the Popularity Column into Some More Precise Values or Change it from 0.1 to 1.0\n",
    "quotes['Popularity'] = quotes['Popularity']*10"
   ]
  },
  {
   "cell_type": "code",
   "execution_count": 24,
   "metadata": {},
   "outputs": [
    {
     "data": {
      "text/plain": [
       "array(['life', 'happiness', 'love', 'truth', 'inspiration', 'humor',\n",
       "       'philosophy', 'science', '', 'soul', 'books', 'wisdom',\n",
       "       'knowledge', 'education', 'poetry', 'hope', 'friendship',\n",
       "       'writing', 'religion', 'death', 'romance', 'success', 'arts',\n",
       "       'relationship', 'motivation', 'faith', 'mind', 'god', 'funny',\n",
       "       'quotes', 'positive', 'purpose'], dtype=object)"
      ]
     },
     "execution_count": 24,
     "metadata": {},
     "output_type": "execute_result"
    }
   ],
   "source": [
    "#Check How Many Categories We Have\n",
    "categories = quotes['Category']\n",
    "cat = categories.unique()\n",
    "cat"
   ]
  },
  {
   "cell_type": "code",
   "execution_count": 25,
   "metadata": {},
   "outputs": [
    {
     "data": {
      "text/plain": [
       "<BarContainer object of 50 artists>"
      ]
     },
     "execution_count": 25,
     "metadata": {},
     "output_type": "execute_result"
    },
    {
     "data": {
      "image/png": "[encoded data removed]",
      "text/plain": [
       "<Figure size 1332x756 with 1 Axes>"
      ]
     },
     "metadata": {
      "needs_background": "light"
     },
     "output_type": "display_data"
    }
   ],
   "source": [
    "#Plot a Test Graph Between Popularity and Category\n",
    "X = quotes.Popularity.values\n",
    "Y = quotes.Category.values\n",
    "X = X[:50]\n",
    "Y = Y[:50]\n",
    "fig = plt.gcf()\n",
    "fig.set_size_inches(18.5, 10.5, forward=True)\n",
    "plt.bar(Y,X)"
   ]
  },
  {
   "cell_type": "code",
   "execution_count": 10,
   "metadata": {},
   "outputs": [],
   "source": [
    "#Now We Calculate the Popularity of Author that is most in all\n",
    "group = quotes.groupby('Author')['Popularity'].mean()"
   ]
  },
  {
   "cell_type": "code",
   "execution_count": 11,
   "metadata": {},
   "outputs": [
    {
     "data": {
      "text/plain": [
       "Author\n",
       "William W. Purkey                                   1.000561\n",
       "Oscar Wilde,  The Happy Prince and Other Stories    0.582691\n",
       "Narcotics Anonymous                                 0.540461\n",
       "H. Jackson Brown Jr.,  P.S. I Love You              0.512831\n",
       "AndrÃ© Gide,  Autumn Leaves                         0.476250\n",
       "Name: Popularity, dtype: float64"
      ]
     },
     "execution_count": 11,
     "metadata": {},
     "output_type": "execute_result"
    }
   ],
   "source": [
    "ans = group.sort_values(ascending=False).head()#Top Author is William W. Purkey\n",
    "ans"
   ]
  },
  {
   "cell_type": "code",
   "execution_count": 12,
   "metadata": {},
   "outputs": [
    {
     "data": {
      "text/plain": [
       "<BarContainer object of 5 artists>"
      ]
     },
     "execution_count": 12,
     "metadata": {},
     "output_type": "execute_result"
    },
    {
     "data": {
      "image/png": "[encoded data removed]",
      "text/plain": [
       "<Figure size 1332x756 with 1 Axes>"
      ]
     },
     "metadata": {
      "needs_background": "light"
     },
     "output_type": "display_data"
    }
   ],
   "source": [
    "fig = plt.gcf()\n",
    "fig.set_size_inches(18.5, 10.5, forward=True)\n",
    "plt.bar(ans.index,ans.values)"
   ]
  },
  {
   "cell_type": "code",
   "execution_count": 13,
   "metadata": {},
   "outputs": [
    {
     "data": {
      "text/html": [
       "<div>\n",
       "<style scoped>\n",
       "    .dataframe tbody tr th:only-of-type {\n",
       "        vertical-align: middle;\n",
       "    }\n",
       "\n",
       "    .dataframe tbody tr th {\n",
       "        vertical-align: top;\n",
       "    }\n",
       "\n",
       "    .dataframe thead th {\n",
       "        text-align: right;\n",
       "    }\n",
       "</style>\n",
       "<table border=\"1\" class=\"dataframe\">\n",
       "  <thead>\n",
       "    <tr style=\"text-align: right;\">\n",
       "      <th></th>\n",
       "      <th>Quote</th>\n",
       "    </tr>\n",
       "  </thead>\n",
       "  <tbody>\n",
       "    <tr>\n",
       "      <th>5</th>\n",
       "      <td>Be yourself; everyone else is already taken.</td>\n",
       "    </tr>\n",
       "    <tr>\n",
       "      <th>12</th>\n",
       "      <td>You've gotta dance like there's nobody watching,Love like you'll never be hurt,Sing like there's nobody listening,And live like it's heaven on earth.</td>\n",
       "    </tr>\n",
       "    <tr>\n",
       "      <th>20</th>\n",
       "      <td>Be the change that you wish to see in the world.</td>\n",
       "    </tr>\n",
       "    <tr>\n",
       "      <th>26</th>\n",
       "      <td>No one can make you feel inferior without your consent.</td>\n",
       "    </tr>\n",
       "    <tr>\n",
       "      <th>33</th>\n",
       "      <td>Live as if you were to die tomorrow. Learn as if you were to live forever.</td>\n",
       "    </tr>\n",
       "  </tbody>\n",
       "</table>\n",
       "</div>"
      ],
      "text/plain": [
       "                                                                                                                                                    Quote\n",
       "5   Be yourself; everyone else is already taken.                                                                                                         \n",
       "12  You've gotta dance like there's nobody watching,Love like you'll never be hurt,Sing like there's nobody listening,And live like it's heaven on earth.\n",
       "20  Be the change that you wish to see in the world.                                                                                                     \n",
       "26  No one can make you feel inferior without your consent.                                                                                              \n",
       "33  Live as if you were to die tomorrow. Learn as if you were to live forever.                                                                           "
      ]
     },
     "execution_count": 13,
     "metadata": {},
     "output_type": "execute_result"
    }
   ],
   "source": [
    "#Check the Quotes According to Any Category\n",
    "pd.DataFrame(quotes.loc[quotes['Category']=='inspiration']['Quote']).head()"
   ]
  },
  {
   "cell_type": "code",
   "execution_count": 15,
   "metadata": {},
   "outputs": [
    {
     "data": {
      "text/plain": [
       "Category\n",
       "                0.047044\n",
       "arts            0.055077\n",
       "books           0.013139\n",
       "death           0.004493\n",
       "education       0.002436\n",
       "faith           0.001950\n",
       "friendship      0.023522\n",
       "funny           0.004322\n",
       "god             0.002493\n",
       "happiness       0.006721\n",
       "hope            0.029015\n",
       "humor           0.022154\n",
       "inspiration     0.007682\n",
       "knowledge       0.001906\n",
       "life            0.024145\n",
       "love            0.025558\n",
       "mind            0.000655\n",
       "motivation      0.015791\n",
       "philosophy      0.002773\n",
       "poetry          0.004606\n",
       "positive        0.000179\n",
       "purpose         0.000248\n",
       "quotes          0.000232\n",
       "relationship    0.003465\n",
       "religion        0.003313\n",
       "romance         0.004421\n",
       "science         0.003791\n",
       "soul            0.001829\n",
       "success         0.027921\n",
       "truth           0.006959\n",
       "wisdom          0.006181\n",
       "writing         0.005139\n",
       "Name: Popularity, dtype: float64"
      ]
     },
     "execution_count": 15,
     "metadata": {},
     "output_type": "execute_result"
    }
   ],
   "source": [
    "#Check Mean of All Categories\n",
    "popular = quotes.groupby('Category')['Popularity'].mean()\n",
    "popular"
   ]
  },
  {
   "cell_type": "code",
   "execution_count": 26,
   "metadata": {},
   "outputs": [
    {
     "data": {
      "text/plain": [
       "<BarContainer object of 32 artists>"
      ]
     },
     "execution_count": 26,
     "metadata": {},
     "output_type": "execute_result"
    },
    {
     "data": {
      "image/png": "[encoded data removed]",
      "text/plain": [
       "<Figure size 2880x756 with 1 Axes>"
      ]
     },
     "metadata": {
      "needs_background": "light"
     },
     "output_type": "display_data"
    }
   ],
   "source": [
    "#Plot Graph of all Categories and Their Mean Values\n",
    "fig = plt.gcf()\n",
    "fig.set_size_inches(40, 10.5, forward=True)\n",
    "plt.bar(popular.index,popular.values)"
   ]
  },
  {
   "cell_type": "code",
   "execution_count": 17,
   "metadata": {},
   "outputs": [
    {
     "data": {
      "text/plain": [
       "Category\n",
       "arts       0.055077\n",
       "           0.047044\n",
       "hope       0.029015\n",
       "success    0.027921\n",
       "love       0.025558\n",
       "Name: Popularity, dtype: float64"
      ]
     },
     "execution_count": 17,
     "metadata": {},
     "output_type": "execute_result"
    }
   ],
   "source": [
    "#Top 5 Categories\n",
    "popular.nlargest(5)"
   ]
  },
  {
   "cell_type": "code",
   "execution_count": 18,
   "metadata": {},
   "outputs": [
    {
     "data": {
      "text/plain": [
       "array([\"['attributed no source', 'cry', 'crying', 'experience', 'happiness', 'joy', 'life', 'misattributed dr seuss', 'optimism', 'sadness', 'smile', 'smiling ']\",\n",
       "       \"['attributed no source', 'best', 'life', 'love', 'mistakes', 'out of control', 'truth', 'worst ']\",\n",
       "       \"['attributed no source', 'be yourself', 'honesty', 'inspirational', 'misattributed oscar wilde ']\",\n",
       "       ..., \"['Love', 'British', 'Surreal']\", \"['Funny', 'Guy']\",\n",
       "       \"['Time', 'Beautiful', 'Fool']\"], dtype=object)"
      ]
     },
     "execution_count": 18,
     "metadata": {},
     "output_type": "execute_result"
    }
   ],
   "source": [
    "#Split the First 3 Tags in different Columns\n",
    "quotes['Tags'] = quotes['Tags'].apply(lambda x: str(x).replace('-',' '))\n",
    "quotes['Tags'].unique()"
   ]
  },
  {
   "cell_type": "code",
   "execution_count": 19,
   "metadata": {},
   "outputs": [
    {
     "data": {
      "text/html": [
       "<div>\n",
       "<style scoped>\n",
       "    .dataframe tbody tr th:only-of-type {\n",
       "        vertical-align: middle;\n",
       "    }\n",
       "\n",
       "    .dataframe tbody tr th {\n",
       "        vertical-align: top;\n",
       "    }\n",
       "\n",
       "    .dataframe thead th {\n",
       "        text-align: right;\n",
       "    }\n",
       "</style>\n",
       "<table border=\"1\" class=\"dataframe\">\n",
       "  <thead>\n",
       "    <tr style=\"text-align: right;\">\n",
       "      <th></th>\n",
       "      <th>Author</th>\n",
       "      <th>Category</th>\n",
       "      <th>Popularity</th>\n",
       "      <th>Quote</th>\n",
       "      <th>Tags</th>\n",
       "      <th>Tag_1</th>\n",
       "      <th>Tag_2</th>\n",
       "      <th>Tag_3</th>\n",
       "    </tr>\n",
       "  </thead>\n",
       "  <tbody>\n",
       "    <tr>\n",
       "      <th>0</th>\n",
       "      <td>Dr. Seuss</td>\n",
       "      <td>life</td>\n",
       "      <td>1.556662</td>\n",
       "      <td>Don't cry because it's over, smile because it happened.</td>\n",
       "      <td>['attributed no source', 'cry', 'crying', 'experience', 'happiness', 'joy', 'life', 'misattributed dr seuss', 'optimism', 'sadness', 'smile', 'smiling ']</td>\n",
       "      <td>attributed no source</td>\n",
       "      <td>cry</td>\n",
       "      <td>crying</td>\n",
       "    </tr>\n",
       "    <tr>\n",
       "      <th>1</th>\n",
       "      <td>Dr. Seuss</td>\n",
       "      <td>happiness</td>\n",
       "      <td>1.556662</td>\n",
       "      <td>Don't cry because it's over, smile because it happened.</td>\n",
       "      <td>['attributed no source', 'cry', 'crying', 'experience', 'happiness', 'joy', 'life', 'misattributed dr seuss', 'optimism', 'sadness', 'smile', 'smiling ']</td>\n",
       "      <td>attributed no source</td>\n",
       "      <td>cry</td>\n",
       "      <td>crying</td>\n",
       "    </tr>\n",
       "    <tr>\n",
       "      <th>2</th>\n",
       "      <td>Marilyn Monroe</td>\n",
       "      <td>love</td>\n",
       "      <td>1.291221</td>\n",
       "      <td>I'm selfish, impatient and a little insecure. I make mistakes, I am out of control and at times hard to handle. But if you can't handle me at my worst, then you sure as hell don't deserve me at my best.</td>\n",
       "      <td>['attributed no source', 'best', 'life', 'love', 'mistakes', 'out of control', 'truth', 'worst ']</td>\n",
       "      <td>attributed no source</td>\n",
       "      <td>best</td>\n",
       "      <td>life</td>\n",
       "    </tr>\n",
       "    <tr>\n",
       "      <th>3</th>\n",
       "      <td>Marilyn Monroe</td>\n",
       "      <td>life</td>\n",
       "      <td>1.291221</td>\n",
       "      <td>I'm selfish, impatient and a little insecure. I make mistakes, I am out of control and at times hard to handle. But if you can't handle me at my worst, then you sure as hell don't deserve me at my best.</td>\n",
       "      <td>['attributed no source', 'best', 'life', 'love', 'mistakes', 'out of control', 'truth', 'worst ']</td>\n",
       "      <td>attributed no source</td>\n",
       "      <td>best</td>\n",
       "      <td>life</td>\n",
       "    </tr>\n",
       "    <tr>\n",
       "      <th>4</th>\n",
       "      <td>Marilyn Monroe</td>\n",
       "      <td>truth</td>\n",
       "      <td>1.291221</td>\n",
       "      <td>I'm selfish, impatient and a little insecure. I make mistakes, I am out of control and at times hard to handle. But if you can't handle me at my worst, then you sure as hell don't deserve me at my best.</td>\n",
       "      <td>['attributed no source', 'best', 'life', 'love', 'mistakes', 'out of control', 'truth', 'worst ']</td>\n",
       "      <td>attributed no source</td>\n",
       "      <td>best</td>\n",
       "      <td>life</td>\n",
       "    </tr>\n",
       "  </tbody>\n",
       "</table>\n",
       "</div>"
      ],
      "text/plain": [
       "           Author   Category  Popularity  \\\n",
       "0  Dr. Seuss       life       1.556662     \n",
       "1  Dr. Seuss       happiness  1.556662     \n",
       "2  Marilyn Monroe  love       1.291221     \n",
       "3  Marilyn Monroe  life       1.291221     \n",
       "4  Marilyn Monroe  truth      1.291221     \n",
       "\n",
       "                                                                                                                                                                                                        Quote  \\\n",
       "0  Don't cry because it's over, smile because it happened.                                                                                                                                                      \n",
       "1  Don't cry because it's over, smile because it happened.                                                                                                                                                      \n",
       "2  I'm selfish, impatient and a little insecure. I make mistakes, I am out of control and at times hard to handle. But if you can't handle me at my worst, then you sure as hell don't deserve me at my best.   \n",
       "3  I'm selfish, impatient and a little insecure. I make mistakes, I am out of control and at times hard to handle. But if you can't handle me at my worst, then you sure as hell don't deserve me at my best.   \n",
       "4  I'm selfish, impatient and a little insecure. I make mistakes, I am out of control and at times hard to handle. But if you can't handle me at my worst, then you sure as hell don't deserve me at my best.   \n",
       "\n",
       "                                                                                                                                                        Tags  \\\n",
       "0  ['attributed no source', 'cry', 'crying', 'experience', 'happiness', 'joy', 'life', 'misattributed dr seuss', 'optimism', 'sadness', 'smile', 'smiling ']   \n",
       "1  ['attributed no source', 'cry', 'crying', 'experience', 'happiness', 'joy', 'life', 'misattributed dr seuss', 'optimism', 'sadness', 'smile', 'smiling ']   \n",
       "2  ['attributed no source', 'best', 'life', 'love', 'mistakes', 'out of control', 'truth', 'worst ']                                                           \n",
       "3  ['attributed no source', 'best', 'life', 'love', 'mistakes', 'out of control', 'truth', 'worst ']                                                           \n",
       "4  ['attributed no source', 'best', 'life', 'love', 'mistakes', 'out of control', 'truth', 'worst ']                                                           \n",
       "\n",
       "                  Tag_1  Tag_2    Tag_3  \n",
       "0  attributed no source   cry    crying  \n",
       "1  attributed no source   cry    crying  \n",
       "2  attributed no source   best   life    \n",
       "3  attributed no source   best   life    \n",
       "4  attributed no source   best   life    "
      ]
     },
     "execution_count": 19,
     "metadata": {},
     "output_type": "execute_result"
    }
   ],
   "source": [
    "quotes['Tag_1'] = ''\n",
    "quotes['Tag_2'] = ''\n",
    "quotes['Tag_3'] = ''\n",
    "\n",
    "quotes['Tag_1']= quotes['Tags'].apply(lambda x: str(x).split(',',3)[:1])\n",
    "quotes['Tag_2']= quotes['Tags'].apply(lambda x: str(x).split(',',3)[1:2])\n",
    "quotes['Tag_3']= quotes['Tags'].apply(lambda x: str(x).split(',',3)[2:3])\n",
    "\n",
    "quotes['Tag_1'] = quotes['Tag_1'].str.get(0)\n",
    "quotes['Tag_2'] = quotes['Tag_2'].str.get(0)\n",
    "quotes['Tag_3'] = quotes['Tag_3'].str.get(0)\n",
    "\n",
    "quotes['Tag_1'] = quotes['Tag_1'].apply(lambda x: str(x).replace(\"'\",\"\"))\n",
    "quotes['Tag_1'] = quotes['Tag_1'].apply(lambda x: str(x).replace(\"[\",\"\"))\n",
    "\n",
    "quotes['Tag_2'] = quotes['Tag_2'].apply(lambda x: str(x).replace(\"'\",\"\"))\n",
    "quotes['Tag_3'] = quotes['Tag_3'].apply(lambda x: str(x).replace(\"'\",\"\"))\n",
    "\n",
    "\n",
    "quotes.head()"
   ]
  },
  {
   "cell_type": "code",
   "execution_count": 20,
   "metadata": {},
   "outputs": [],
   "source": [
    "#Check Tag_1 Popularity\n",
    "Tag1_popularity = quotes.groupby('Tag_1')['Popularity'].mean()"
   ]
  },
  {
   "cell_type": "code",
   "execution_count": 21,
   "metadata": {},
   "outputs": [
    {
     "data": {
      "text/plain": [
       "Tag_1\n",
       "from charles bayard miliken         0.721861\n",
       "61419 likes ]                       0.614191\n",
       "attributed no source                0.419813\n",
       "misattributed to abraham lincoln    0.402800\n",
       "edison                              0.340680\n",
       "Name: Popularity, dtype: float64"
      ]
     },
     "execution_count": 21,
     "metadata": {},
     "output_type": "execute_result"
    }
   ],
   "source": [
    "#Top 5 in Tag_1\n",
    "Tag1_popularity.nlargest(5)"
   ]
  }
 ],
 "metadata": {
  "kernelspec": {
   "display_name": "Python 3",
   "language": "python",
   "name": "python3"
  },
  "language_info": {
   "codemirror_mode": {
    "name": "ipython",
    "version": 3
   },
   "file_extension": ".py",
   "mimetype": "text/x-python",
   "name": "python",
   "nbconvert_exporter": "python",
   "pygments_lexer": "ipython3",
   "version": "3.6.0"
  }
 },
 "nbformat": 4,
 "nbformat_minor": 2
}
